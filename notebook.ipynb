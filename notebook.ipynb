{
  "nbformat": 4,
  "nbformat_minor": 0,
  "metadata": {
    "colab": {
      "name": "Untitled3.ipynb",
      "version": "0.3.2",
      "provenance": []
    },
    "kernelspec": {
      "name": "python3",
      "display_name": "Python 3"
    },
    "accelerator": "GPU"
  },
  "cells": [
    {
      "cell_type": "markdown",
      "metadata": {
        "id": "view-in-github",
        "colab_type": "text"
      },
      "source": [
        "[View in Colaboratory](https://colab.research.google.com/github/Rblivingstone/iMaterialist_Kaggle_competition/blob/master/notebook.ipynb)"
      ]
    },
    {
      "metadata": {
        "id": "So2nsxp3pgp_",
        "colab_type": "code",
        "colab": {
          "base_uri": "https://localhost:8080/",
          "height": 156
        },
        "outputId": "64682991-69d2-4cb9-a688-9bd8abb2ba85"
      },
      "cell_type": "code",
      "source": [
        "!pip install kaggle\n",
        "import keras\n",
        "import pandas as pd\n"
      ],
      "execution_count": 1,
      "outputs": [
        {
          "output_type": "stream",
          "text": [
            "Requirement already satisfied: kaggle in /usr/local/lib/python3.6/dist-packages\r\n",
            "Requirement already satisfied: python-dateutil in /usr/local/lib/python3.6/dist-packages (from kaggle)\r\n",
            "Requirement already satisfied: certifi in /usr/local/lib/python3.6/dist-packages (from kaggle)\r\n",
            "Requirement already satisfied: urllib3>=1.15 in /usr/local/lib/python3.6/dist-packages (from kaggle)\r\n",
            "Requirement already satisfied: six>=1.10 in /usr/local/lib/python3.6/dist-packages (from kaggle)\n",
            "\u001b[33mYou are using pip version 9.0.3, however version 10.0.1 is available.\n",
            "You should consider upgrading via the 'pip install --upgrade pip' command.\u001b[0m\n"
          ],
          "name": "stdout"
        },
        {
          "output_type": "stream",
          "text": [
            "Using TensorFlow backend.\n"
          ],
          "name": "stderr"
        }
      ]
    },
    {
      "metadata": {
        "id": "XFOaVafHrYaL",
        "colab_type": "code",
        "colab": {
          "base_uri": "https://localhost:8080/",
          "height": 34
        },
        "outputId": "3678401b-fe9c-492a-d5ab-53f1e645c336"
      },
      "cell_type": "code",
      "source": [
        "from googleapiclient.discovery import build\n",
        "import io, os\n",
        "from googleapiclient.http import MediaIoBaseDownload\n",
        "from google.colab import auth\n",
        "\n",
        "auth.authenticate_user()\n",
        "\n",
        "drive_service = build('drive', 'v3')\n",
        "results = drive_service.files().list(\n",
        "        q=\"name = 'kaggle.json'\", fields=\"files(id)\").execute()\n",
        "kaggle_api_key = results.get('files', [])\n",
        "\n",
        "filename = \"/content/.kaggle/kaggle.json\"\n",
        "os.makedirs(os.path.dirname(filename), exist_ok=True)\n",
        "\n",
        "request = drive_service.files().get_media(fileId=kaggle_api_key[0]['id'])\n",
        "fh = io.FileIO(filename, 'wb')\n",
        "downloader = MediaIoBaseDownload(fh, request)\n",
        "done = False\n",
        "while done is False:\n",
        "    status, done = downloader.next_chunk()\n",
        "    print(\"Download %d%%.\" % int(status.progress() * 100))\n",
        "os.chmod(filename, 600)\n",
        " \n",
        "\n"
      ],
      "execution_count": 2,
      "outputs": [
        {
          "output_type": "stream",
          "text": [
            "Download 100%.\n"
          ],
          "name": "stdout"
        }
      ]
    },
    {
      "metadata": {
        "id": "SR5kVreC1RI3",
        "colab_type": "code",
        "colab": {
          "base_uri": "https://localhost:8080/",
          "height": 86
        },
        "outputId": "8f4b38c7-cbe3-481c-be9d-6da66d621907"
      },
      "cell_type": "code",
      "source": [
        "!kaggle competitions download -c imaterialist-challenge-fashion-2018 -w"
      ],
      "execution_count": 3,
      "outputs": [
        {
          "output_type": "stream",
          "text": [
            "test.json.zip: Skipping, found more recently modified local copy (use --force to force download)\n",
            "validation.json.zip: Skipping, found more recently modified local copy (use --force to force download)\n",
            "train.json.zip: Skipping, found more recently modified local copy (use --force to force download)\n",
            "sample_submission.csv.zip: Skipping, found more recently modified local copy (use --force to force download)\n"
          ],
          "name": "stdout"
        }
      ]
    },
    {
      "metadata": {
        "id": "ALjK0RVH8viU",
        "colab_type": "code",
        "colab": {}
      },
      "cell_type": "code",
      "source": [
        "from shutil import unpack_archive\n",
        "unpack_archive('train.json.zip')\n"
      ],
      "execution_count": 0,
      "outputs": []
    },
    {
      "metadata": {
        "id": "b1cuWE_OGZua",
        "colab_type": "code",
        "colab": {
          "base_uri": "https://localhost:8080/",
          "height": 208
        },
        "outputId": "6ece493c-9bc0-4789-fae9-fe61c19c7bd7"
      },
      "cell_type": "code",
      "source": [
        "import json\n",
        "print('okay')\n",
        "json_data=open('train.json').read()\n",
        "print('cool')\n",
        "data = json.loads(json_data)\n",
        "print(data['images'])"
      ],
      "execution_count": 3,
      "outputs": [
        {
          "output_type": "stream",
          "text": [
            "okay\n"
          ],
          "name": "stdout"
        },
        {
          "output_type": "stream",
          "text": [
            "IOPub data rate exceeded.\n",
            "The notebook server will temporarily stop sending output\n",
            "to the client in order to avoid crashing it.\n",
            "To change this limit, set the config variable\n",
            "`--NotebookApp.iopub_data_rate_limit`.\n",
            "\n",
            "Current values:\n",
            "NotebookApp.iopub_data_rate_limit=1000000.0 (bytes/sec)\n",
            "NotebookApp.rate_limit_window=3.0 (secs)\n",
            "\n"
          ],
          "name": "stderr"
        }
      ]
    },
    {
      "metadata": {
        "id": "awIeaLABHFnZ",
        "colab_type": "code",
        "colab": {}
      },
      "cell_type": "code",
      "source": [
        "urls = [obj['url'] for obj in data['images']]\n",
        "ids = [obj['imageId'] for obj in data['images']]"
      ],
      "execution_count": 0,
      "outputs": []
    },
    {
      "metadata": {
        "id": "_dP_k4_Sicrw",
        "colab_type": "code",
        "colab": {}
      },
      "cell_type": "code",
      "source": [
        "import urllib.request\n",
        "try:\n",
        "  os.mkdir('/images')\n",
        "except FileExistsError:\n",
        "  pass"
      ],
      "execution_count": 0,
      "outputs": []
    },
    {
      "metadata": {
        "id": "fxkXyjWFnKPr",
        "colab_type": "code",
        "colab": {
          "base_uri": "https://localhost:8080/",
          "height": 1285
        },
        "outputId": "6dc64fe5-a5ed-454d-9ee0-063949f2593f"
      },
      "cell_type": "code",
      "source": [
        "for i in range(len(urls)):\n",
        "  try:\n",
        "     urllib.request.urlretrieve(urls[i],'/images/{0}.jpg'.format(ids[i]))\n",
        "  except:ata\n",
        "    print('{0} Failed to Download, Skipping ID: {1}'.format(urls[i],ids[i]))"
      ],
      "execution_count": 0,
      "outputs": [
        {
          "output_type": "stream",
          "text": [
            "https://contestimg.wish.com/api/webimage/5494fceff88ca01004df3b80-large Failed to Download, Skipping ID: 35\n",
            "https://contestimg.wish.com/api/webimage/540040b8ecdd3054b095b0a1-large Failed to Download, Skipping ID: 55\n",
            "https://contestimg.wish.com/api/webimage/544b91d564d8781016a15f18-large Failed to Download, Skipping ID: 120\n",
            "https://contestimg.wish.com/api/webimage/544f6162180866102287a223-large Failed to Download, Skipping ID: 126\n",
            "https://contestimg.wish.com/api/webimage/541d15b0037e1c1cc618e505-large Failed to Download, Skipping ID: 185\n",
            "https://contestimg.wish.com/api/webimage/5455a6dbde557b10275cffb1-large Failed to Download, Skipping ID: 301\n",
            "https://contestimg.wish.com/api/webimage/53fb1b260aae3009760c111d-large Failed to Download, Skipping ID: 344\n",
            "https://contestimg.wish.com/api/webimage/540a9ce821f1610aa31aee3e-large Failed to Download, Skipping ID: 346\n",
            "https://contestimg.wish.com/api/webimage/540bbf96814f8b0bb18a3f8c-large Failed to Download, Skipping ID: 349\n",
            "https://contestimg.wish.com/api/webimage/5416463eca52f5097cf60186-large Failed to Download, Skipping ID: 395\n",
            "https://contestimg.wish.com/api/webimage/542f987a4168960c409e50fe-large Failed to Download, Skipping ID: 521\n",
            "https://contestimg.wish.com/api/webimage/544c42d45a01c60f59f3146d-large Failed to Download, Skipping ID: 577\n",
            "https://contestimg.wish.com/api/webimage/54461802505c3a0eb56c6e96-large Failed to Download, Skipping ID: 624\n",
            "https://contestimg.wish.com/api/webimage/54055103b160a80acf40bbee-large Failed to Download, Skipping ID: 675\n",
            "https://contestimg.wish.com/api/webimage/54290faf5773c409ffa4ae42-large Failed to Download, Skipping ID: 690\n",
            "https://contestimg.wish.com/api/webimage/540032a716c15a0944aa95f1-large Failed to Download, Skipping ID: 707\n",
            "https://contestimg.wish.com/api/webimage/5486a878df4e115cfda1add4-large Failed to Download, Skipping ID: 730\n",
            "https://contestimg.wish.com/api/webimage/5416a21aca52f50980f69b6b-large Failed to Download, Skipping ID: 731\n",
            "https://contestimg.wish.com/api/webimage/545748d45566b30f738a5966-large Failed to Download, Skipping ID: 773\n",
            "https://contestimg.wish.com/api/webimage/543510c4774d430e160f31e1-large Failed to Download, Skipping ID: 794\n",
            "https://contestimg.wish.com/api/webimage/5429044b90ba120b7288774e-large Failed to Download, Skipping ID: 913\n",
            "https://contestimg.wish.com/api/webimage/547f1ff5b9b7e73132fa8791-large Failed to Download, Skipping ID: 931\n",
            "https://contestimg.wish.com/api/webimage/54a6351ab6d10f100107da44-large Failed to Download, Skipping ID: 996\n",
            "https://contestimg.wish.com/api/webimage/540eb14aa2f1ff0b98cbb47c-large Failed to Download, Skipping ID: 1028\n",
            "https://contestimg.wish.com/api/webimage/5414b0132df8500ab646d1a5-large Failed to Download, Skipping ID: 1091\n",
            "https://contestimg.wish.com/api/webimage/5466d11f1ad9f60fe450203a-large Failed to Download, Skipping ID: 1142\n",
            "https://contestimg.wish.com/api/webimage/544237513464830dd546d6ab-large Failed to Download, Skipping ID: 1304\n",
            "https://contestimg.wish.com/api/webimage/548bc555747e195650239a74-large Failed to Download, Skipping ID: 1324\n",
            "https://contestimg.wish.com/api/webimage/540698c8b160a86b3a493b52-large Failed to Download, Skipping ID: 1483\n",
            "https://contestimg.wish.com/api/webimage/53c5045fd91139121fc4c3f4-large Failed to Download, Skipping ID: 1486\n",
            "https://contestimg.wish.com/api/webimage/542dc9dcb061240e90015e91-large Failed to Download, Skipping ID: 1489\n",
            "https://contestimg.wish.com/api/webimage/5416a0ea020e46095501697c-large Failed to Download, Skipping ID: 1501\n",
            "https://contestimg.wish.com/api/webimage/5483d8b518c5960f8d6e51df-large Failed to Download, Skipping ID: 1609\n",
            "https://contestimg.wish.com/api/webimage/548834ec6f2ec451554d8c89-large Failed to Download, Skipping ID: 1667\n",
            "https://contestimg.wish.com/api/webimage/54152adb2df8500a9947107b-large Failed to Download, Skipping ID: 1756\n",
            "https://contestimg.wish.com/api/webimage/54853e020c11014000d8981d-large Failed to Download, Skipping ID: 1837\n",
            "https://contestimg.wish.com/api/webimage/548bae24a8da38102b6b943f-large Failed to Download, Skipping ID: 1841\n",
            "https://contestimg.wish.com/api/webimage/54168bf6ca52f50906f6ade7-large Failed to Download, Skipping ID: 1891\n",
            "https://contestimg.wish.com/api/webimage/546f4812906b6d0f5043a468-large Failed to Download, Skipping ID: 1894\n",
            "https://contestimg.wish.com/api/webimage/547cfca2a476e945f33789b9-large Failed to Download, Skipping ID: 1987\n",
            "https://contestimg.wish.com/api/webimage/54158e17727525093795bf2e-large Failed to Download, Skipping ID: 2049\n",
            "https://contestimg.wish.com/api/webimage/54477d243b9ace0f70fe99d7-large Failed to Download, Skipping ID: 2072\n"
          ],
          "name": "stdout"
        },
        {
          "output_type": "stream",
          "text": [
            "https://contestimg.wish.com/api/webimage/5406f4a73cefbe7a7f06e05e-large Failed to Download, Skipping ID: 2080\n",
            "https://contestimg.wish.com/api/webimage/54421f5887b47a6d833e46f7-large Failed to Download, Skipping ID: 2106\n",
            "https://contestimg.wish.com/api/webimage/540ec38b0e2dba0a72922fb5-large Failed to Download, Skipping ID: 2114\n",
            "https://contestimg.wish.com/api/webimage/54165d214974cf0972f75619-large Failed to Download, Skipping ID: 2129\n",
            "https://contestimg.wish.com/api/webimage/548d114830d8b817879f7ef8-large Failed to Download, Skipping ID: 2140\n",
            "https://contestimg.wish.com/api/webimage/54228ff8ac624b0a25e77904-large Failed to Download, Skipping ID: 2163\n",
            "https://contestimg.wish.com/api/webimage/543b6e03b4bc390f8ac86699-large Failed to Download, Skipping ID: 2329\n",
            "https://contestimg.wish.com/api/webimage/544b6d4cda76fa100bbd05c5-large Failed to Download, Skipping ID: 2362\n",
            "https://contestimg.wish.com/api/webimage/541ff86d7ae53f0d04823a72-large Failed to Download, Skipping ID: 2374\n",
            "https://contestimg.wish.com/api/webimage/548a654c459e7a086677ea45-large Failed to Download, Skipping ID: 2377\n",
            "https://contestimg.wish.com/api/webimage/5483d93bf33e870fbcb7c6ff-large Failed to Download, Skipping ID: 2506\n",
            "https://contestimg.wish.com/api/webimage/541b5ca7b959c009b8c5bca2-large Failed to Download, Skipping ID: 2537\n",
            "https://contestimg.wish.com/api/webimage/541b65e982df63201740b33b-large Failed to Download, Skipping ID: 2569\n",
            "https://contestimg.wish.com/api/webimage/53ffca93236aae7a33d266b2-large Failed to Download, Skipping ID: 2597\n",
            "https://contestimg.wish.com/api/webimage/5433b27bcc7cd10e32e19f23-large Failed to Download, Skipping ID: 2616\n",
            "https://contestimg.wish.com/api/webimage/542dca635859b30d651d5545-large Failed to Download, Skipping ID: 2621\n",
            "https://contestimg.wish.com/api/webimage/5454ad51ef8df044b2e4e11c-large Failed to Download, Skipping ID: 2658\n",
            "https://contestimg.wish.com/api/webimage/5466d13b1ad9f60ed8501fe4-large Failed to Download, Skipping ID: 2734\n",
            "https://contestimg.wish.com/api/webimage/5442381f36f4180dae52c603-large Failed to Download, Skipping ID: 2811\n",
            "https://contestimg.wish.com/api/webimage/542c0dd54a35490a953f9432-large Failed to Download, Skipping ID: 2888\n",
            "https://contestimg.wish.com/api/webimage/53fb1a54a580ed099292158a-large Failed to Download, Skipping ID: 2957\n",
            "https://contestimg.wish.com/api/webimage/541f4dfefcd42f0ab1bdc055-large Failed to Download, Skipping ID: 3030\n",
            "https://contestimg.wish.com/api/webimage/5416bde5f25f780b0ae440d4-large Failed to Download, Skipping ID: 3050\n",
            "https://contestimg.wish.com/api/webimage/541558cba821c608f37a26ef-large Failed to Download, Skipping ID: 3090\n",
            "https://contestimg.wish.com/api/webimage/54166361a8ef7d090d351bbf-large Failed to Download, Skipping ID: 3182\n",
            "https://contestimg.wish.com/api/webimage/540ea71f0e2dba0a7791ed27-large Failed to Download, Skipping ID: 3187\n",
            "https://contestimg.wish.com/api/webimage/540040e8236aae76eb4cf7fa-large Failed to Download, Skipping ID: 3206\n",
            "https://contestimg.wish.com/api/webimage/540ad5c83637690ba45368b2-large Failed to Download, Skipping ID: 3212\n",
            "https://contestimg.wish.com/api/webimage/548a5ebd459e7a087477e906-large Failed to Download, Skipping ID: 3238\n",
            "https://contestimg.wish.com/api/webimage/5487f82dc27fdc38d9afb061-large Failed to Download, Skipping ID: 3246\n",
            "https://contestimg.wish.com/api/webimage/549cbf146f0c4e10328ed976-large Failed to Download, Skipping ID: 3300\n"
          ],
          "name": "stdout"
        }
      ]
    },
    {
      "metadata": {
        "id": "XUN8-KomtDvT",
        "colab_type": "code",
        "colab": {
          "base_uri": "https://localhost:8080/",
          "height": 139
        },
        "outputId": "dd601623-c9e1-4f19-d275-4d2519b10221"
      },
      "cell_type": "code",
      "source": [
        "import numpy as np\n",
        "output = []\n",
        "for dat in data['annotations']:\n",
        "  temp = [0]*228\n",
        "  for obj in dat['labelId']:\n",
        "    temp[int(obj)-1] = 1\n",
        "  output.append(temp)\n",
        "depvar = np.array(output)\n",
        "print(depvar)"
      ],
      "execution_count": 11,
      "outputs": [
        {
          "output_type": "stream",
          "text": [
            "[[0 0 0 ... 0 0 0]\n",
            " [0 0 0 ... 0 0 0]\n",
            " [0 0 0 ... 0 0 0]\n",
            " ...\n",
            " [0 0 0 ... 0 0 0]\n",
            " [0 0 0 ... 0 0 0]\n",
            " [0 0 0 ... 0 0 0]]\n"
          ],
          "name": "stdout"
        }
      ]
    },
    {
      "metadata": {
        "id": "FT1JXqYqvlov",
        "colab_type": "code",
        "colab": {
          "base_uri": "https://localhost:8080/",
          "height": 34
        },
        "outputId": "0ccb4299-1a2d-4f84-e303-a1ab5b4fa23b"
      },
      "cell_type": "code",
      "source": [
        "depvar[0,136]"
      ],
      "execution_count": 12,
      "outputs": [
        {
          "output_type": "execute_result",
          "data": {
            "text/plain": [
              "1"
            ]
          },
          "metadata": {
            "tags": []
          },
          "execution_count": 12
        }
      ]
    }
  ]
}